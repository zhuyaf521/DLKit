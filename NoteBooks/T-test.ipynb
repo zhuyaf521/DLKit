{
 "cells": [
  {
   "cell_type": "code",
   "execution_count": 1,
   "id": "aa822d96",
   "metadata": {},
   "outputs": [],
   "source": [
    "from scipy import stats\n",
    "import numpy as np"
   ]
  },
  {
   "cell_type": "code",
   "execution_count": 2,
   "id": "74e45320",
   "metadata": {},
   "outputs": [],
   "source": [
    "# RF-五折交叉验证AUC值\n",
    "rf_aaindex_cv = [0.7451,0.7431,0.7443,0.7355,0.7408]\n",
    "rf_aaindex_ind = [0.7446,0.7471,0.7439,0.7438,0.7477]\n",
    "\n",
    "rf_blosum62_cv = [0.7261,0.7221,0.7224,0.7162,0.7227]\n",
    "rf_blosum62_ind = [0.7302,0.7282,0.7263,0.7272,0.7273]\n",
    "\n",
    "rf_eaac_cv = [0.7439,0.7372,0.7376,0.7411,0.7290]\n",
    "rf_eaac_ind = [0.7419,0.7433,0.7386,0.7415,0.7410]\n",
    "\n",
    "rf_zscale_cv = [0.7271,0.7258,0.7195,0.7185,0.7176]\n",
    "rf_zscale_ind = [0.7257,0.7274,0.7251,0.7275,0.7275]"
   ]
  },
  {
   "cell_type": "code",
   "execution_count": 3,
   "id": "4f1a309a",
   "metadata": {},
   "outputs": [],
   "source": [
    "# XGBoost-五折交叉验证AUC值\n",
    "xgb_aaindex_cv = [0.7538,0.7520,0.7383,0.7405,0.7420]\n",
    "xgb_aaindex_ind = [0.7562,0.7519,0.7545,0.7529,0.7535]\n",
    "\n",
    "xgb_blosum62_cv = [0.7505,0.7509,0.7362,0.7379,0.7375]\n",
    "xgb_blosum62_ind = [0.7520,0.7514,0.7496,0.7496,0.7459]\n",
    "\n",
    "xgb_eaac_cv = [0.7595,0.7635,0.7565,0.7489,0.7551]\n",
    "xgb_eaac_ind = [0.7643,0.7701,0.7627,0.7635,0.7652]\n",
    "\n",
    "xgb_zscale_cv = [0.7375,0.7428,0.7304,0.7342,0.7334]\n",
    "xgb_zscale_ind = [0.7397,0.7437,0.7384,0.7404,0.7351]"
   ]
  },
  {
   "cell_type": "code",
   "execution_count": null,
   "id": "d3f15a4a",
   "metadata": {},
   "outputs": [],
   "source": [
    "# LGBM-五折交叉验证AUC值\n",
    "lgbm_aaindex_cv = [0.7580,0.7522,0.7544,0.7491,0.7493]\n",
    "lgbm_aaindex_ind = [0.7563,0.7579,0.7551,0.7581,0.7536]\n",
    "\n",
    "lgbm_blosum62_cv = [0.7566,0.7483,0.7489,0.7431,0.7421]\n",
    "lgbm_blosum62_ind = [0.7544,0.7569,0.7548,0.7551,0.7547]\n",
    "\n",
    "lgbm_eaac_cv = [0.7679,0.7612,0.7629,0.7615,0.7567]\n",
    "lgbm_eaac_ind = [0.7689,0.7644,0.7647,0.7646,0.7634]\n",
    "\n",
    "lgbm_zscale_cv = [0.7506,0.7434,0.7409,0.7353,0.7367]\n",
    "lgbm_zscale_ind = [0.7479,0.7483,0.7445,0.7408,0.7436]"
   ]
  },
  {
   "cell_type": "markdown",
   "id": "d5a182d6",
   "metadata": {},
   "source": [
    "### News start"
   ]
  },
  {
   "cell_type": "code",
   "execution_count": 15,
   "id": "febc9a9a",
   "metadata": {},
   "outputs": [],
   "source": [
    "# 循环神经网络\n",
    "bilstm_we_cv = [0.7838,0.7683,0.7797,0.7800,0.7672]\n",
    "bilstm_we_ind = [0.7831,0.7730,0.7834,0.7846,0.7770]\n",
    "\n",
    "bilstm_oh_cv = [0.7883,0.7771,0.7851,0.7870,0.7775]\n",
    "bilstm_oh_ind = [0.7872,0.7859,0.7866,0.7886,0.7868]\n",
    "\n",
    "bigru_we_cv = [0.7946,0.7843,0.7905,0.7850,0.7807]\n",
    "bigru_we_ind = [0.7895,0.7928,0.7953,0.7934,0.7885]\n",
    "\n",
    "bigru_oh_cv = [0.8042,0.7920,0.8009,0.7980,0.7884]\n",
    "bigru_oh_ind = [0.7999,0.7996,0.8002,0.8037,0.7980]\n",
    "\n",
    "rscnn_oh_cv = [0.8030,0.8009,0.8047,0.7996,0.7950]\n",
    "rscnn_oh_ind = [0.8014,0.8052,0.8028,0.8035,0.8026]\n",
    "\n",
    "ResSumo_cv = [0.8020,0.7962,0.8072,0.7994,0.7983]\n",
    "ResSumo_ind = [0.7969,0.8021,0.8010,0.7994,0.8053]\n",
    "\n",
    "ResSumo_Gru_cv = [0.8070,0.8031,0.8028,0.8034,0.7973]\n",
    "ResSumo_Gru_ind = [0.8060,0.8078,0.8033,0.8037,0.8059]\n",
    "\n",
    "ResSumo_Gru_CASA_cv = [0.8188,0.8119,0.8145,0.8148,0.8155]\n",
    "ResSumo_Gru_CASA_ind = [0.8093,0.8073,0.8090,0.8101,0.8110]"
   ]
  },
  {
   "cell_type": "code",
   "execution_count": 20,
   "id": "96705391",
   "metadata": {},
   "outputs": [
    {
     "name": "stdout",
     "output_type": "stream",
     "text": [
      "0.004679463427758285\n",
      "\n",
      "有差异\n"
     ]
    }
   ],
   "source": [
    "t, p = stats.ttest_ind(ResSumo_Gru_ind_,ResSumo_Gru_ind)\n",
    "print(p)\n",
    "print('')\n",
    "if p>0.01:\n",
    "    print('无差异')\n",
    "else:\n",
    "    print('有差异')"
   ]
  },
  {
   "cell_type": "markdown",
   "id": "9500cf46",
   "metadata": {},
   "source": [
    "### News end"
   ]
  },
  {
   "cell_type": "code",
   "execution_count": 5,
   "id": "81d0b08d",
   "metadata": {},
   "outputs": [],
   "source": [
    "# 普通CNN-五折交叉验证AUC值\n",
    "cnn_aaindex_cv = [0.7961,0.7891,0.7888,0.7806,0.7863]\n",
    "cnn_aaindex_ind = [0.7931,0.7922,0.7875,0.7858,0.7910]\n",
    "\n",
    "cnn_blosum62_cv = [0.7949,0.7887,0.7875,0.7871,0.7817]\n",
    "cnn_blosum62_ind = [0.7900,0.7882,0.7879,0.7900,0.7889]\n",
    "\n",
    "cnn_eaac_cv = [0.7878,0.7834,0.7836,0.7764,0.7786]\n",
    "cnn_eaac_ind = [0.7859,0.7864,0.7832,0.7831,0.7855]\n",
    "\n",
    "cnn_zscale_cv = [0.7905,0.7876,0.7882,0.7808,0.7775]\n",
    "cnn_zscale_ind = [0.7859,0.7902,0.7847,0.7830,0.7853]"
   ]
  },
  {
   "cell_type": "code",
   "execution_count": 6,
   "id": "9d99ec50",
   "metadata": {},
   "outputs": [],
   "source": [
    "# 残差网络-五折交叉验证AUC值\n",
    "resnet_aaindex_2_cv = [0.8037,0.8004,0.8025,0.7946,0.7948]\n",
    "resnet_aaindex_2_ind = [0.8025,0.8050,0.7985,0.7964,0.8021]\n",
    "\n",
    "resnet_blosum62_2_cv = [0.8008,0.7962,0.8038,0.8010,0.7953]\n",
    "resnet_blosum62_2_ind = [0.8001,0.8013,0.7973,0.8062,0.8032]\n",
    "\n",
    "resnet_eaac_2_cv = [0.7809,0.7758,0.7738,0.7723,0.7680]\n",
    "resnet_eaac_2_ind = [0.7765,0.7757,0.7707,0.7723,0.7724]\n",
    "\n",
    "resnet_zscale_2_cv = [0.8020,0.7962,0.8072,0.7994,0.7983]\n",
    "resnet_zscale_2_ind = [0.7969,0.8021,0.8010,0.7994,0.8053]"
   ]
  },
  {
   "cell_type": "code",
   "execution_count": 18,
   "id": "faad664f",
   "metadata": {},
   "outputs": [],
   "source": [
    "# LSTM-五折交叉验证AUC值\n",
    "lstm_aaindex_2_cv = [0.7927,0.7872,0.7916,0.7871,0.7850]\n",
    "lstm_aaindex_2_ind = [0.7915,0.7963,0.7929,0.7941,0.7964]\n",
    "\n",
    "lstm_blosum62_2_cv = [0.7996,0.7928,0.7971,0.7896,0.7847]\n",
    "lstm_blosum62_2_ind = [0.8055,0.7985,0.7943,0.7948,0.7975]\n",
    "\n",
    "lstm_eaac_2_cv = [0.7674,0.7585,0.7653,0.7678,0.7544]\n",
    "lstm_eaac_2_ind = [0.7645,0.7600,0.7644,0.7643,0.7621]\n",
    "\n",
    "lstm_zscale_2_cv = [0.7880,0.7786,0.7887,0.7825,0.7767]\n",
    "lstm_zscale_2_ind = [0.7873,0.7901,0.7900,0.7914,0.7900]"
   ]
  },
  {
   "cell_type": "code",
   "execution_count": 19,
   "id": "96450eb6",
   "metadata": {},
   "outputs": [],
   "source": [
    "# GRU-五折交叉验证AUC值\n",
    "gru_aaindex_2_cv = [0.7828,0.7875,0.7871,0.7866,0.7760]\n",
    "gru_aaindex_2_ind = [0.7815,0.7900,0.7875,0.7913,0.7877]\n",
    "\n",
    "gru_blosum62_2_cv = [0.7950,0.7886,0.7953,0.7928,0.7883]\n",
    "gru_blosum62_2_ind = [0.7951,0.7959,0.7947,0.7957,0.7959]\n",
    "\n",
    "gru_eaac_2_cv = [0.7777,0.7697,0.7741,0.7696,0.7675]\n",
    "gru_eaac_2_ind = [0.7751,0.77360,0.7743,0.7720,0.7731]\n",
    "\n",
    "gru_zscale_2_cv = [0.7916,0.7824,0.7900,0.7894,0.7772]\n",
    "gru_zscale_2_ind = [0.7957,0.7941,0.7900,0.7972,0.7914]"
   ]
  },
  {
   "cell_type": "code",
   "execution_count": 21,
   "id": "e8be31bb",
   "metadata": {},
   "outputs": [],
   "source": [
    "SUMOForest_ind = [0.7676,0.7673,0.7706,0.7713,0.7672]\n",
    "ISUMOKPseAAC_ind = [0.6204,0.6253,0.6247,0.6321,0.6360]\n",
    "ResKsumo_ind = [0.7969,0.8021,0.8010,0.7994,0.8053]\n",
    "SUMOForest_cv = [0.7644,0.7603,0.7590,0.7605,0.7567]\n",
    "ISUMOKPseAAC_cv = [0.6460,0.6293,0.6135,0.6081,0.6019]\n",
    "ResKsumo_cv = [0.8020,0.7962,0.8072,0.7994,0.7983]"
   ]
  },
  {
   "cell_type": "code",
   "execution_count": 28,
   "id": "c256930d",
   "metadata": {},
   "outputs": [],
   "source": [
    "# RF、XGB、LGBM、CNN、RSCNN、LSTM、GRU\n",
    "aaindex_cv = [0.7417, 0.7452, 0.7524, 0.7880, 0.7990, 0.7886, 0.7839]\n",
    "aaindex_ind = [0.7452, 0.7536, 0.7560, 0.7897, 0.8007, 0.7941, 0.7875]\n",
    "\n",
    "blosum62_cv = [0.7218, 0.7425, 0.7477, 0.7878, 0.7992, 0.7926, 0.7919]\n",
    "blosum62_ind = [0.7276, 0.7495, 0.7550, 0.7889, 0.8014, 0.7980, 0.7953]\n",
    "\n",
    "eaac_cv = [0.7376, 0.7565, 0.7619, 0.7818, 0.7741, 0.7626, 0.7716]\n",
    "eaac_ind = [0.7411, 0.7651, 0.7650, 0.7848, 0.7734, 0.7630, 0.7735]\n",
    "\n",
    "zscale_cv = [0.7215, 0.7355, 0.7412, 0.7847, 0.8004, 0.7828, 0.7860]\n",
    "zscale_ind = [0.7265, 0.7393, 0.7449, 0.7856, 0.8008, 0.7896, 0.7936]\n",
    "\n",
    "# CNN、RSCNN、LSTM、GRU\n",
    "oh_cv = [0.7871, 0.8005, 0.7847, 0.7969]\n",
    "oh_ind = [0.7888, 0.8030, 0.7899, 0.8005]\n",
    "\n",
    "we_cv = [0.7877, 0.7984, 0.7787, 0.7871]\n",
    "we_ind = [0.7901, 0.7991, 0.7821, 0.7926]\n",
    "\n",
    "word2vec_cv = [0.7785, 0.7921, 0.7582, 0.7779]\n",
    "word2vec_ind = [0.7810, 0.7949, 0.7582, 0.7801]"
   ]
  },
  {
   "cell_type": "code",
   "execution_count": 29,
   "id": "58af5833",
   "metadata": {},
   "outputs": [
    {
     "name": "stdout",
     "output_type": "stream",
     "text": [
      "aaindex_cv : 0.7713\n",
      "blosum62_cv : 0.7691\n",
      "eaac_cv : 0.7637\n",
      "zscale_cv : 0.7646\n",
      "oh_cv : 0.7923\n",
      "we_cv : 0.7880\n",
      "word2vec_cv : 0.7767\n"
     ]
    }
   ],
   "source": [
    "print('aaindex_cv : '+\"{:.4f}\".format(np.mean(aaindex_cv)))\n",
    "print('blosum62_cv : '+\"{:.4f}\".format(np.mean(blosum62_cv)))\n",
    "print('eaac_cv : '+\"{:.4f}\".format(np.mean(eaac_cv)))\n",
    "print('zscale_cv : '+\"{:.4f}\".format(np.mean(zscale_cv)))\n",
    "print('oh_cv : '+\"{:.4f}\".format(np.mean(oh_cv)))\n",
    "print('we_cv : '+\"{:.4f}\".format(np.mean(we_cv)))\n",
    "print('word2vec_cv : '+\"{:.4f}\".format(np.mean(word2vec_cv)))"
   ]
  },
  {
   "cell_type": "code",
   "execution_count": 30,
   "id": "6c92635f",
   "metadata": {},
   "outputs": [
    {
     "name": "stdout",
     "output_type": "stream",
     "text": [
      "aaindex_ind : 0.7753\n",
      "blosum62_ind : 0.7737\n",
      "eaac_ind : 0.7666\n",
      "zscale_ind : 0.7686\n",
      "oh_ind : 0.7956\n",
      "we_ind : 0.7910\n",
      "word2vec_ind : 0.7786\n"
     ]
    }
   ],
   "source": [
    "print('aaindex_ind : '+\"{:.4f}\".format(np.mean(aaindex_ind)))\n",
    "print('blosum62_ind : '+\"{:.4f}\".format(np.mean(blosum62_ind)))\n",
    "print('eaac_ind : '+\"{:.4f}\".format(np.mean(eaac_ind)))\n",
    "print('zscale_ind : '+\"{:.4f}\".format(np.mean(zscale_ind)))\n",
    "print('oh_ind : '+\"{:.4f}\".format(np.mean(oh_ind)))\n",
    "print('we_ind : '+\"{:.4f}\".format(np.mean(we_ind)))\n",
    "print('word2vec_ind : '+\"{:.4f}\".format(np.mean(word2vec_ind)))"
   ]
  },
  {
   "cell_type": "code",
   "execution_count": 47,
   "id": "bb2a513b",
   "metadata": {},
   "outputs": [
    {
     "name": "stdout",
     "output_type": "stream",
     "text": [
      "0.0053728889828249336\n",
      "\n",
      "有差异\n"
     ]
    }
   ],
   "source": [
    "t, p = stats.ttest_ind(oh_cv,eaac_cv)\n",
    "print(p)\n",
    "print('')\n",
    "if p>0.01:\n",
    "    print('无差异')\n",
    "else:\n",
    "    print('有差异')"
   ]
  },
  {
   "cell_type": "code",
   "execution_count": 31,
   "id": "1afbaea3",
   "metadata": {},
   "outputs": [],
   "source": [
    "# AAindex、BLOSUM62、EAAC、ZScale\n",
    "rf_model_cv = [0.7417, 0.7218, 0.7376, 0.7215]\n",
    "rf_model_ind = [0.7452, 0.7276, 0.7411, 0.7265]\n",
    "\n",
    "xgb_model_cv = [0.7452, 0.7425, 0.7565, 0.7355]\n",
    "xgb_model_ind = [0.7536, 0.7495, 0.7651, 0.7393]\n",
    "\n",
    "lgbm_model_cv = [0.7524, 0.7477, 0.7619, 0.7412]\n",
    "lgbm_model_ind = [0.7560, 0.7550, 0.7650, 0.7449]\n",
    "\n",
    "# AAindex、BLOSUM62、EAAC、ZScale、OH、WE、word2vec\n",
    "cnn_model_cv = [0.7880, 0.7878, 0.7818, 0.7847, 0.7871, 0.7877, 0.7785]\n",
    "cnn_model_ind = [0.7897, 0.7889, 0.7848, 0.7856, 0.7888, 0.7901, 0.7810]\n",
    "\n",
    "rscnn_model_cv = [0.7990, 0.7992, 0.7741, 0.8004, 0.8005, 0.7984, 0.7921]\n",
    "rscnn_model_ind = [0.8007, 0.8014, 0.7734, 0.8008, 0.8030, 0.7991, 0.7949]\n",
    "\n",
    "lstm_model_cv = [0.7886, 0.7926, 0.7626, 0.7828, 0.7847, 0.7787, 0.7582]\n",
    "lstm_model_ind = [0.7941, 0.7980, 0.7630, 0.7896, 0.7899, 0.7821, 0.7582]\n",
    "\n",
    "gru_model_cv = [0.7839, 0.7919, 0.7716, 0.7860, 0.7969, 0.7871, 0.7779]\n",
    "gru_model_ind = [0.7875, 0.7953, 0.7735, 0.7936, 0.8005, 0.7926, 0.7801]"
   ]
  },
  {
   "cell_type": "code",
   "execution_count": 32,
   "id": "9a790074",
   "metadata": {},
   "outputs": [
    {
     "name": "stdout",
     "output_type": "stream",
     "text": [
      "rf_model_cv : 0.7307\n",
      "xgb_model_cv : 0.7449\n",
      "lgbm_model_cv : 0.7508\n",
      "cnn_model_cv : 0.7851\n",
      "rscnn_model_cv : 0.7948\n",
      "lstm_model_cv : 0.7783\n",
      "gru_model_cv : 0.7850\n"
     ]
    }
   ],
   "source": [
    "print('rf_model_cv : '+\"{:.4f}\".format(np.mean(rf_model_cv)))\n",
    "print('xgb_model_cv : '+\"{:.4f}\".format(np.mean(xgb_model_cv)))\n",
    "print('lgbm_model_cv : '+\"{:.4f}\".format(np.mean(lgbm_model_cv)))\n",
    "print('cnn_model_cv : '+\"{:.4f}\".format(np.mean(cnn_model_cv)))\n",
    "print('rscnn_model_cv : '+\"{:.4f}\".format(np.mean(rscnn_model_cv)))\n",
    "print('lstm_model_cv : '+\"{:.4f}\".format(np.mean(lstm_model_cv)))\n",
    "print('gru_model_cv : '+\"{:.4f}\".format(np.mean(gru_model_cv)))"
   ]
  },
  {
   "cell_type": "code",
   "execution_count": 33,
   "id": "84f7ace3",
   "metadata": {},
   "outputs": [
    {
     "name": "stdout",
     "output_type": "stream",
     "text": [
      "rf_model_ind : 0.7351\n",
      "xgb_model_ind : 0.7519\n",
      "lgbm_model_ind : 0.7552\n",
      "cnn_model_ind : 0.7870\n",
      "rscnn_model_ind : 0.7962\n",
      "lstm_model_ind : 0.7821\n",
      "gru_model_ind : 0.7890\n"
     ]
    }
   ],
   "source": [
    "print('rf_model_ind : '+\"{:.4f}\".format(np.mean(rf_model_ind)))\n",
    "print('xgb_model_ind : '+\"{:.4f}\".format(np.mean(xgb_model_ind)))\n",
    "print('lgbm_model_ind : '+\"{:.4f}\".format(np.mean(lgbm_model_ind)))\n",
    "print('cnn_model_ind : '+\"{:.4f}\".format(np.mean(cnn_model_ind)))\n",
    "print('rscnn_model_ind : '+\"{:.4f}\".format(np.mean(rscnn_model_ind)))\n",
    "print('lstm_model_ind : '+\"{:.4f}\".format(np.mean(lstm_model_ind)))\n",
    "print('gru_model_ind : '+\"{:.4f}\".format(np.mean(gru_model_ind)))"
   ]
  },
  {
   "cell_type": "code",
   "execution_count": 41,
   "id": "a4976c8b",
   "metadata": {},
   "outputs": [
    {
     "name": "stdout",
     "output_type": "stream",
     "text": [
      "0.045141056192061095\n",
      "\n",
      "无差异\n"
     ]
    }
   ],
   "source": [
    "t, p = stats.ttest_ind(rscnn_model_ind,cnn_model_ind)\n",
    "print(p)\n",
    "print('')\n",
    "if p>0.01:\n",
    "    print('无差异')\n",
    "else:\n",
    "    print('有差异')"
   ]
  },
  {
   "cell_type": "code",
   "execution_count": null,
   "id": "6a3e12b0",
   "metadata": {},
   "outputs": [],
   "source": []
  }
 ],
 "metadata": {
  "kernelspec": {
   "display_name": "Python 3",
   "language": "python",
   "name": "python3"
  },
  "language_info": {
   "codemirror_mode": {
    "name": "ipython",
    "version": 3
   },
   "file_extension": ".py",
   "mimetype": "text/x-python",
   "name": "python",
   "nbconvert_exporter": "python",
   "pygments_lexer": "ipython3",
   "version": "3.8.8"
  }
 },
 "nbformat": 4,
 "nbformat_minor": 5
}
